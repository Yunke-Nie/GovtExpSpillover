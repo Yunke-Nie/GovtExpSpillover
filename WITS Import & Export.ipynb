{
 "cells": [
  {
   "cell_type": "code",
   "execution_count": 1,
   "id": "8169bdcf",
   "metadata": {},
   "outputs": [],
   "source": [
    "import pandas as pd\n",
    "import world_trade_data as wits"
   ]
  },
  {
   "cell_type": "code",
   "execution_count": 2,
   "id": "1b045417",
   "metadata": {},
   "outputs": [
    {
     "data": {
      "text/plain": [
       "['trn', 'tradestats-trade', 'tradestats-tariff']"
      ]
     },
     "execution_count": 2,
     "metadata": {},
     "output_type": "execute_result"
    }
   ],
   "source": [
    "wits.DATASOURCES"
   ]
  },
  {
   "cell_type": "code",
   "execution_count": 3,
   "id": "019c837a",
   "metadata": {},
   "outputs": [
    {
     "data": {
      "text/html": [
       "<div>\n",
       "<style scoped>\n",
       "    .dataframe tbody tr th:only-of-type {\n",
       "        vertical-align: middle;\n",
       "    }\n",
       "\n",
       "    .dataframe tbody tr th {\n",
       "        vertical-align: top;\n",
       "    }\n",
       "\n",
       "    .dataframe thead th {\n",
       "        text-align: right;\n",
       "    }\n",
       "</style>\n",
       "<table border=\"1\" class=\"dataframe\">\n",
       "  <thead>\n",
       "    <tr style=\"text-align: right;\">\n",
       "      <th></th>\n",
       "      <th>name</th>\n",
       "      <th>notes</th>\n",
       "      <th>countrycode</th>\n",
       "      <th>isreporter</th>\n",
       "      <th>ispartner</th>\n",
       "      <th>isgroup</th>\n",
       "      <th>grouptype</th>\n",
       "    </tr>\n",
       "    <tr>\n",
       "      <th>iso3Code</th>\n",
       "      <th></th>\n",
       "      <th></th>\n",
       "      <th></th>\n",
       "      <th></th>\n",
       "      <th></th>\n",
       "      <th></th>\n",
       "      <th></th>\n",
       "    </tr>\n",
       "  </thead>\n",
       "  <tbody>\n",
       "    <tr>\n",
       "      <th>AFG</th>\n",
       "      <td>Afghanistan</td>\n",
       "      <td></td>\n",
       "      <td>004</td>\n",
       "      <td>False</td>\n",
       "      <td>False</td>\n",
       "      <td>No</td>\n",
       "      <td>N/A</td>\n",
       "    </tr>\n",
       "    <tr>\n",
       "      <th>ALB</th>\n",
       "      <td>Albania</td>\n",
       "      <td></td>\n",
       "      <td>008</td>\n",
       "      <td>False</td>\n",
       "      <td>False</td>\n",
       "      <td>No</td>\n",
       "      <td>N/A</td>\n",
       "    </tr>\n",
       "    <tr>\n",
       "      <th>DZA</th>\n",
       "      <td>Algeria</td>\n",
       "      <td></td>\n",
       "      <td>012</td>\n",
       "      <td>False</td>\n",
       "      <td>False</td>\n",
       "      <td>No</td>\n",
       "      <td>N/A</td>\n",
       "    </tr>\n",
       "    <tr>\n",
       "      <th>ASM</th>\n",
       "      <td>American Samoa</td>\n",
       "      <td></td>\n",
       "      <td>016</td>\n",
       "      <td>True</td>\n",
       "      <td>False</td>\n",
       "      <td>No</td>\n",
       "      <td>N/A</td>\n",
       "    </tr>\n",
       "    <tr>\n",
       "      <th>AND</th>\n",
       "      <td>Andorra</td>\n",
       "      <td></td>\n",
       "      <td>020</td>\n",
       "      <td>False</td>\n",
       "      <td>False</td>\n",
       "      <td>No</td>\n",
       "      <td>N/A</td>\n",
       "    </tr>\n",
       "    <tr>\n",
       "      <th>...</th>\n",
       "      <td>...</td>\n",
       "      <td>...</td>\n",
       "      <td>...</td>\n",
       "      <td>...</td>\n",
       "      <td>...</td>\n",
       "      <td>...</td>\n",
       "      <td>...</td>\n",
       "    </tr>\n",
       "    <tr>\n",
       "      <th>YEM</th>\n",
       "      <td>Yemen</td>\n",
       "      <td></td>\n",
       "      <td>887</td>\n",
       "      <td>False</td>\n",
       "      <td>False</td>\n",
       "      <td>No</td>\n",
       "      <td>N/A</td>\n",
       "    </tr>\n",
       "    <tr>\n",
       "      <th>YDR</th>\n",
       "      <td>Yemen Democratic</td>\n",
       "      <td></td>\n",
       "      <td>720</td>\n",
       "      <td>True</td>\n",
       "      <td>False</td>\n",
       "      <td>No</td>\n",
       "      <td>N/A</td>\n",
       "    </tr>\n",
       "    <tr>\n",
       "      <th>YUG</th>\n",
       "      <td>Yugoslavia,FR(Serbia/Montenegr</td>\n",
       "      <td></td>\n",
       "      <td>890</td>\n",
       "      <td>True</td>\n",
       "      <td>False</td>\n",
       "      <td>No</td>\n",
       "      <td>N/A</td>\n",
       "    </tr>\n",
       "    <tr>\n",
       "      <th>ZMB</th>\n",
       "      <td>Zambia</td>\n",
       "      <td></td>\n",
       "      <td>894</td>\n",
       "      <td>False</td>\n",
       "      <td>False</td>\n",
       "      <td>No</td>\n",
       "      <td>N/A</td>\n",
       "    </tr>\n",
       "    <tr>\n",
       "      <th>ZWE</th>\n",
       "      <td>Zimbabwe</td>\n",
       "      <td></td>\n",
       "      <td>716</td>\n",
       "      <td>False</td>\n",
       "      <td>False</td>\n",
       "      <td>No</td>\n",
       "      <td>N/A</td>\n",
       "    </tr>\n",
       "  </tbody>\n",
       "</table>\n",
       "<p>266 rows × 7 columns</p>\n",
       "</div>"
      ],
      "text/plain": [
       "                                    name notes countrycode  isreporter  \\\n",
       "iso3Code                                                                 \n",
       "AFG                          Afghanistan               004       False   \n",
       "ALB                              Albania               008       False   \n",
       "DZA                              Algeria               012       False   \n",
       "ASM                       American Samoa               016        True   \n",
       "AND                              Andorra               020       False   \n",
       "...                                  ...   ...         ...         ...   \n",
       "YEM                                Yemen               887       False   \n",
       "YDR                     Yemen Democratic               720        True   \n",
       "YUG       Yugoslavia,FR(Serbia/Montenegr               890        True   \n",
       "ZMB                               Zambia               894       False   \n",
       "ZWE                             Zimbabwe               716       False   \n",
       "\n",
       "          ispartner isgroup grouptype  \n",
       "iso3Code                               \n",
       "AFG           False      No       N/A  \n",
       "ALB           False      No       N/A  \n",
       "DZA           False      No       N/A  \n",
       "ASM           False      No       N/A  \n",
       "AND           False      No       N/A  \n",
       "...             ...     ...       ...  \n",
       "YEM           False      No       N/A  \n",
       "YDR           False      No       N/A  \n",
       "YUG           False      No       N/A  \n",
       "ZMB           False      No       N/A  \n",
       "ZWE           False      No       N/A  \n",
       "\n",
       "[266 rows x 7 columns]"
      ]
     },
     "execution_count": 3,
     "metadata": {},
     "output_type": "execute_result"
    }
   ],
   "source": [
    "wits.get_countries()"
   ]
  },
  {
   "cell_type": "code",
   "execution_count": 11,
   "id": "2e770322",
   "metadata": {},
   "outputs": [
    {
     "data": {
      "text/plain": [
       "<module 'world_trade_data.data' from 'C:\\\\Users\\\\nieh_\\\\anaconda3\\\\lib\\\\site-packages\\\\world_trade_data\\\\data.py'>"
      ]
     },
     "execution_count": 11,
     "metadata": {},
     "output_type": "execute_result"
    }
   ],
   "source": [
    "wits."
   ]
  },
  {
   "cell_type": "code",
   "execution_count": null,
   "id": "f4771c0b",
   "metadata": {},
   "outputs": [],
   "source": []
  }
 ],
 "metadata": {
  "kernelspec": {
   "display_name": "Python 3 (ipykernel)",
   "language": "python",
   "name": "python3"
  },
  "language_info": {
   "codemirror_mode": {
    "name": "ipython",
    "version": 3
   },
   "file_extension": ".py",
   "mimetype": "text/x-python",
   "name": "python",
   "nbconvert_exporter": "python",
   "pygments_lexer": "ipython3",
   "version": "3.9.7"
  }
 },
 "nbformat": 4,
 "nbformat_minor": 5
}
